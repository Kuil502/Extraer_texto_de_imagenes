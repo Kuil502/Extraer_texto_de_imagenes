{
 "cells": [
  {
   "cell_type": "code",
   "execution_count": null,
   "id": "31c0d6f2",
   "metadata": {},
   "outputs": [],
   "source": [
    "from PIL import Image\n",
    "import pytesseract\n",
    "\n",
    "# Establecer la ruta de Tesseract (ajusta según tu instalación)\n",
    "pytesseract.pytesseract.tesseract_cmd = r'C:/Program Files/Tesseract-OCR/tesseract.exe'\n",
    "\n",
    "# Ruta de la imagen\n",
    "ruta_imagen = r'C:\\Users\\JuanHernandez\\OneDrive - Uniespecies, S.A\\Escritorio\\BakUp\\Extraccion/Scraping.png'\n",
    "\n",
    "try:\n",
    "    # Abrir la imagen\n",
    "    with Image.open(ruta_imagen) as img:\n",
    "        # Extraer el texto de la imagen en español e inglés\n",
    "        resultado = pytesseract.image_to_string(img, lang='spa+eng')\n",
    "\n",
    "        # Imprimir el resultado\n",
    "        print(resultado)\n",
    "\n",
    "except FileNotFoundError:\n",
    "    print(f\"Error: No se encontró el archivo en la ruta especificada: {ruta_imagen}\")\n",
    "except Exception as e:\n",
    "    print(f\"Error inesperado: {e}\")"
   ]
  }
 ],
 "metadata": {
  "kernelspec": {
   "display_name": "Python 3 (ipykernel)",
   "language": "python",
   "name": "python3"
  },
  "language_info": {
   "codemirror_mode": {
    "name": "ipython",
    "version": 3
   },
   "file_extension": ".py",
   "mimetype": "text/x-python",
   "name": "python",
   "nbconvert_exporter": "python",
   "pygments_lexer": "ipython3",
   "version": "3.9.13"
  }
 },
 "nbformat": 4,
 "nbformat_minor": 5
}
